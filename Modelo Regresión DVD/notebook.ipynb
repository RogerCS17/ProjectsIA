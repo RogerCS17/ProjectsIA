{
 "cells": [
  {
   "cell_type": "markdown",
   "metadata": {},
   "source": [
    "# Modelo de Regresión para una Empresa de Alquiler de DVD\n",
    "\n",
    "¡Una empresa de alquiler de DVD necesita tu ayuda! Quieren calcular durante cuántos días un cliente alquilará un DVD en función de algunas características y se han acercado a usted para pedirle ayuda. Quieren que pruebes algunos modelos de regresión que te ayudarán a predecir el número de días que un cliente alquilará un DVD. La empresa quiere un modelo que produzca un MSE de 3 o menos en un equipo de prueba. El modelo que cree ayudará a la empresa a ser más eficiente en la planificación del inventario.\n",
    "\n",
    "Los datos que proporcionaron están en el archivo csv `rental_info.csv`. Tiene las siguientes características:\n",
    "- `\"rental_date\"`: La fecha (y hora) en la que el cliente alquila el DVD.\n",
    "- `\"return_date\"`: La fecha (y hora) en la que el cliente devuelve el DVD.\n",
    "- `\"amount\"`: El importe pagado por el cliente por el alquiler del DVD.\n",
    "- `\"amount_2\"`: El cuadrado de `\"amount\"`.\n",
    "- `\"rental_rate\"`: La tarifa a la que se alquila el DVD.\n",
    "- `\"rental_rate_2\"`: El cuadrado de `\"rental_rate\"`.\n",
    "- `\"release_year\"`: El año en que se estrenó la película que se alquila.\n",
    "- `\"length\"`: Duración de la película que se alquila, en minutos.\n",
    "- `\"length_2\"`: El cuadrado de `\"length\"`.\n",
    "- `\"replacement_cost\"`: El importe que le costará a la empresa reemplazar el DVD.\n",
    "- `\"special_features\"`: Cualquier característica especial, por ejemplo trailers/escenas eliminadas que también tenga el DVD.\n",
    "- `\"NC-17\"`, `\"PG\"`, `\"PG-13\"`, `\"R\"`: Estas columnas son variables ficticias de la calificación de la película. Toma el valor 1 si el movimiento se clasifica como el nombre de la columna y 0 en caso contrario. Para su comodidad, el dummy de referencia ya se ha eliminado."
   ]
  },
  {
   "cell_type": "markdown",
   "metadata": {},
   "source": [
    "## Importando Librerias"
   ]
  },
  {
   "cell_type": "code",
   "execution_count": 55,
   "metadata": {},
   "outputs": [],
   "source": [
    "import pandas as pd\n",
    "import numpy as np\n",
    "\n",
    "from sklearn.model_selection import train_test_split\n",
    "from sklearn.metrics import mean_squared_error\n",
    "\n",
    "# Import any additional modules and start coding below\n",
    "df = pd.read_csv(\"rental_info.csv\")"
   ]
  },
  {
   "cell_type": "markdown",
   "metadata": {},
   "source": [
    "* Crear una columna llamada \"rental_length_days\"\n",
    "* Usa \"return_date\" & \"rental_date\"\n",
    "* ¿Cuántos Días el Cliente Alquiló el DVD?"
   ]
  },
  {
   "cell_type": "code",
   "execution_count": 56,
   "metadata": {},
   "outputs": [],
   "source": [
    "df[\"rental_date\"] = pd.to_datetime(df[\"rental_date\"])\n",
    "df[\"return_date\"] = pd.to_datetime(df[\"return_date\"])\n",
    "df[\"rental_length_days\"] = (df[\"return_date\"] - df[\"rental_date\"]).dt.days"
   ]
  },
  {
   "cell_type": "markdown",
   "metadata": {},
   "source": [
    "* Usando Special Features para crear las Columnas: \n",
    "* The value is \"Behind the Scenes\", storing as a column called \"behind_the_scenes\"."
   ]
  },
  {
   "cell_type": "code",
   "execution_count": 57,
   "metadata": {},
   "outputs": [],
   "source": [
    "df[\"deleted_scenes\"] = [1 if \"Deleted Scenes\" in elemento else 0 for elemento in df[\"special_features\"]]\n",
    "df[\"behind_the_scenes\"] = [1 if \"Behind the Scenes\" in elemento else 0 for elemento in df[\"special_features\"]]"
   ]
  },
  {
   "cell_type": "markdown",
   "metadata": {},
   "source": [
    "* Separar en datos de Entrada y de Salida (X & Y)"
   ]
  },
  {
   "cell_type": "code",
   "execution_count": 58,
   "metadata": {},
   "outputs": [],
   "source": [
    "X = df[[\"amount\", \"release_year\", \"rental_rate\", \"length\", \"replacement_cost\", \"NC-17\", \"PG\", \"PG-13\", \"R\", \"amount_2\", \"length_2\", \"rental_rate_2\",\"deleted_scenes\", \"behind_the_scenes\"]].values\n",
    "y = df[\"rental_length_days\"].values"
   ]
  },
  {
   "cell_type": "markdown",
   "metadata": {},
   "source": [
    "* Divida los datos conjuntos de prueba X_train, y_train, X_test e y_test, evitando cualquier característica que filtre datos sobre la variable de destino e incluya el 20% de los datos totales en el conjunto de prueba.\n",
    "* Establezca random_state en 9 siempre que utilice una función/método que implique aleatoriedad, por ejemplo, al realizar una división de un tren de prueba."
   ]
  },
  {
   "cell_type": "code",
   "execution_count": 59,
   "metadata": {},
   "outputs": [],
   "source": [
    "X_train, X_test, y_train, y_test = train_test_split(X, y, test_size=0.2, random_state=9)"
   ]
  },
  {
   "cell_type": "markdown",
   "metadata": {},
   "source": [
    "* Recomendar un modelo que produzca un error cuadrático medio (MSE) inferior a 3 en el conjunto de prueba"
   ]
  },
  {
   "cell_type": "code",
   "execution_count": 60,
   "metadata": {},
   "outputs": [
    {
     "name": "stdout",
     "output_type": "stream",
     "text": [
      "Best Model : RandomForestRegressor(min_samples_split=5, n_estimators=50, random_state=9)\n",
      "Best MSE: 2.0481139633013763\n"
     ]
    }
   ],
   "source": [
    "from sklearn.ensemble import RandomForestRegressor\n",
    "\n",
    "# Save best model\n",
    "rf = RandomForestRegressor(n_estimators=50, min_samples_split=5, random_state=9)\n",
    "rf.fit(X_train, y_train)\n",
    "y_pred = rf.predict(X_test)\n",
    "mse = mean_squared_error(y_pred, y_test)\n",
    "\n",
    "best_model = rf\n",
    "best_mse = mse\n",
    "\n",
    "print(f\"Best Model : {best_model}\\nBest MSE: {best_mse}\")"
   ]
  },
  {
   "cell_type": "markdown",
   "metadata": {},
   "source": [
    "* Guarde el modelo que recomendaría como una variable denominada best_model y guarde su MSE en el conjunto de prueba como best_mse."
   ]
  }
 ],
 "metadata": {
  "kernelspec": {
   "display_name": "Python 3",
   "language": "python",
   "name": "python3"
  },
  "language_info": {
   "codemirror_mode": {
    "name": "ipython",
    "version": 3
   },
   "file_extension": ".py",
   "mimetype": "text/x-python",
   "name": "python",
   "nbconvert_exporter": "python",
   "pygments_lexer": "ipython3",
   "version": "3.10.2"
  }
 },
 "nbformat": 4,
 "nbformat_minor": 2
}
